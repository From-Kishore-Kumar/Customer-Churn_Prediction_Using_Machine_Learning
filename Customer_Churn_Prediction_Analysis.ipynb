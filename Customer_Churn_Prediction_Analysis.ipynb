{
 "cells": [
  {
   "cell_type": "markdown",
   "id": "bf507e90-3a69-421a-b22c-fa167972f6fa",
   "metadata": {},
   "source": [
    "## Customer Churn\r\n",
    "Customer churn occurs when an existing customer, user, subscriber, or any kind of return client stops doing business or ends the relationship with a company.\r\n",
    "\r\n",
    "### Types of Customer Churn\r\n",
    "- **Contractual Churn**: When a customer is under a contract for a service and decides to cancel the service (e.g., Cable TV, SaaS).\r\n",
    "- **Voluntary Churn**: When a user voluntarily cancels a service (e.g., Cellular connection).\r\n",
    "- **Non-Contractual Churn**: When a customer is not under a contract for a service and decides to cancel the service (e.g., Consumer Loyalty in retail stores).\r\n",
    "- **Involuntary Churn**: When a churn occurs without any request of the customer (e.g., Credit card expiration).\r\n",
    "\r\n",
    "### Reasons for Voluntary Churn\r\n",
    "- Lack of usage\r\n",
    "- Poor service\r\n",
    "- Better price\n",
    "Better price"
   ]
  },
  {
   "cell_type": "markdown",
   "id": "4499c920-fd61-4f4b-aa1b-9a9bdf124eb3",
   "metadata": {},
   "source": [
    "Importing the required dataset and the libraries"
   ]
  },
  {
   "cell_type": "code",
   "execution_count": 1,
   "id": "949d4bbd-a2cd-4bf5-ad1a-1664b6667df7",
   "metadata": {},
   "outputs": [
    {
     "name": "stdout",
     "output_type": "stream",
     "text": [
      "<class 'pandas.core.frame.DataFrame'>\n",
      "RangeIndex: 3333 entries, 0 to 3332\n",
      "Data columns (total 20 columns):\n",
      " #   Column                  Non-Null Count  Dtype  \n",
      "---  ------                  --------------  -----  \n",
      " 0   state                   3333 non-null   object \n",
      " 1   account length          3333 non-null   int64  \n",
      " 2   area code               3333 non-null   int64  \n",
      " 3   international plan      3333 non-null   object \n",
      " 4   voice mail plan         3333 non-null   object \n",
      " 5   number vmail messages   3333 non-null   int64  \n",
      " 6   total day minutes       3333 non-null   float64\n",
      " 7   total day calls         3333 non-null   int64  \n",
      " 8   total day charge        3333 non-null   float64\n",
      " 9   total eve minutes       3333 non-null   float64\n",
      " 10  total eve calls         3333 non-null   int64  \n",
      " 11  total eve charge        3333 non-null   float64\n",
      " 12  total night minutes     3333 non-null   float64\n",
      " 13  total night calls       3333 non-null   int64  \n",
      " 14  total night charge      3333 non-null   float64\n",
      " 15  total intl minutes      3333 non-null   float64\n",
      " 16  total intl calls        3333 non-null   int64  \n",
      " 17  total intl charge       3333 non-null   float64\n",
      " 18  customer service calls  3333 non-null   int64  \n",
      " 19  churn                   3333 non-null   bool   \n",
      "dtypes: bool(1), float64(8), int64(8), object(3)\n",
      "memory usage: 498.1+ KB\n"
     ]
    }
   ],
   "source": [
    "# Importing required libraries\n",
    "import numpy as np\n",
    "import pandas as pd\n",
    "import matplotlib.pyplot as plt\n",
    "import seaborn as sns\n",
    "\n",
    "# Importing the dataset\n",
    "dataset = pd.read_csv('TelecomChurn.csv')\n",
    "\n",
    "# Print all the features of the data\n",
    "dataset.info()"
   ]
  },
  {
   "cell_type": "markdown",
   "id": "c180b393-163b-491b-8b04-e52343dcf100",
   "metadata": {},
   "source": [
    "### Exploratory Data Analysis on Telco Churn Dataset"
   ]
  },
  {
   "cell_type": "code",
   "execution_count": 2,
   "id": "cc5c37be-43b4-40eb-80c0-3e529a21f44b",
   "metadata": {},
   "outputs": [
    {
     "data": {
      "text/plain": [
       "churn\n",
       "False    2850\n",
       "True      483\n",
       "Name: count, dtype: int64"
      ]
     },
     "execution_count": 2,
     "metadata": {},
     "output_type": "execute_result"
    }
   ],
   "source": [
    "# Find the number of churners and non-churners in the dataset\n",
    "dataset['churn'].value_counts()"
   ]
  },
  {
   "cell_type": "code",
   "execution_count": 3,
   "id": "efa54107-f920-40cd-9e6f-20ccaed9def2",
   "metadata": {},
   "outputs": [
    {
     "name": "stdout",
     "output_type": "stream",
     "text": [
      "churn\n",
      "False    1.449825\n",
      "True     2.229814\n",
      "Name: customer service calls, dtype: float64\n"
     ]
    }
   ],
   "source": [
    "# Group data by 'churn' and 'customer service calls'\n",
    "print(dataset.groupby('churn')['customer service calls'].mean())"
   ]
  },
  {
   "cell_type": "code",
   "execution_count": 4,
   "id": "3a3dd698-eb10-4fe5-80d7-d8c94741395f",
   "metadata": {},
   "outputs": [
    {
     "name": "stdout",
     "output_type": "stream",
     "text": [
      "state  churn\n",
      "AK     False    49\n",
      "       True      3\n",
      "AL     False    72\n",
      "       True      8\n",
      "AR     False    44\n",
      "                ..\n",
      "WI     True      7\n",
      "WV     False    96\n",
      "       True     10\n",
      "WY     False    68\n",
      "       True      9\n",
      "Name: count, Length: 102, dtype: int64\n"
     ]
    }
   ],
   "source": [
    "# Find out if one state has more churners compared to another\n",
    "\n",
    "# Count the number of churners and non-churners by state\n",
    "print(dataset.groupby('state')['churn'].value_counts())"
   ]
  },
  {
   "cell_type": "markdown",
   "id": "3ed99f8a-b817-4a4b-baae-18a7373ba056",
   "metadata": {},
   "source": [
    "### Exploring Data Visualizations\n",
    "\n",
    "To understand how variables are distributed"
   ]
  },
  {
   "cell_type": "code",
   "execution_count": 5,
   "id": "51f22817-0bd1-4a70-9fe7-9e1d90c2236b",
   "metadata": {},
   "outputs": [
    {
     "data": {
      "image/png": "[encoded data removed]",
      "text/plain": [
       "<Figure size 640x480 with 1 Axes>"
      ]
     },
     "metadata": {},
     "output_type": "display_data"
    }
   ],
   "source": [
    "# Visualize the distribution of 'Total day minutes'\n",
    "plt.hist(dataset['total day minutes'], bins = 100)\n",
    "\n",
    "# Display the plot\n",
    "plt.show()"
   ]
  },
  {
   "cell_type": "code",
   "execution_count": 6,
   "id": "68e5040e-3402-4993-9f3c-787573571cbb",
   "metadata": {},
   "outputs": [
    {
     "data": {
      "image/png": "[encoded data removed]",
      "text/plain": [
       "<Figure size 640x480 with 1 Axes>"
      ]
     },
     "metadata": {},
     "output_type": "display_data"
    }
   ],
   "source": [
    "# To visualize the difference in Customer service calls between \n",
    "# churners and non-churners\n",
    "\n",
    "# Create a box plot\n",
    "sns.boxplot(x = 'churn',\n",
    "            y = 'customer service calls',\n",
    "            data = dataset,\n",
    "            sym = \"\",\n",
    "            hue = 'international plan')\n",
    "\n",
    "# Display the plot\n",
    "plt.show()"
   ]
  },
  {
   "cell_type": "markdown",
   "id": "2e5c0e1d-a1d9-4131-87c8-8a8a4746852e",
   "metadata": {},
   "source": [
    "It looks like customers who do churn end up leaving more customer service calls unless these customers also have an international plan, in which case they leave fewer customer service calls. This type of information is really useful in better understanding the drivers of churn."
   ]
  },
  {
   "cell_type": "markdown",
   "id": "f85dc943-26cb-440c-94c5-803ec21147a2",
   "metadata": {},
   "source": [
    "### Data Preprocessing for Telco Churn Dataset\n",
    "\n",
    "  Many Machine Learning models make certain assumptions about the distribution of data. Some of these assumptions are:\r\n",
    "\r\n",
    "- **Normality**: The features are normally distributed.\r\n",
    "- **Equal Scales**: The features are on the same scale.\r\n",
    "- **Numeric Datatypes**: The datatypes of features are numeric.eric"
   ]
  },
  {
   "cell_type": "code",
   "execution_count": 7,
   "id": "d31a9b2b-6f5f-4961-bbbc-e29c3c6697a5",
   "metadata": {},
   "outputs": [],
   "source": [
    "# In telco churn data, Churn, Voice mail plan, and, International plan, in particular, are binary features that can easily be converted into 0’s and 1’s.\n",
    "\n",
    "# Features and Labels \n",
    "X = dataset.iloc[:, 0:19].values \n",
    "y = dataset.iloc[:, 19].values # Churn \n",
    "  \n",
    "# Encoding categorical data in X \n",
    "from sklearn.preprocessing import LabelEncoder \n",
    "  \n",
    "labelencoder_X_1 = LabelEncoder() \n",
    "X[:, 3] = labelencoder_X_1.fit_transform(X[:, 3]) \n",
    "  \n",
    "labelencoder_X_2 = LabelEncoder() \n",
    "X[:, 4] = labelencoder_X_2.fit_transform(X[:, 4]) \n",
    "  \n",
    "# Encoding categorical data in y \n",
    "labelencoder_y = LabelEncoder() \n",
    "y = labelencoder_y.fit_transform(y) "
   ]
  },
  {
   "cell_type": "markdown",
   "id": "1f945449-84b1-4ea4-8610-fca803de4bd9",
   "metadata": {},
   "source": [
    "Encoding State feature using One hot encoding"
   ]
  },
  {
   "cell_type": "code",
   "execution_count": 8,
   "id": "1b85dfbe-477c-4c06-ba02-857411262c4d",
   "metadata": {},
   "outputs": [],
   "source": [
    "# Removing extra column to avoid dummy variable trap \n",
    "X_State = pd.get_dummies(X[:, 0], drop_first = True) \n",
    "  \n",
    "# Converting X to a dataframe \n",
    "X = pd.DataFrame(X) \n",
    "  \n",
    "# Dropping the 'State' column \n",
    "X = X.drop([0], axis = 1) \n",
    "  \n",
    "# Merging two dataframes \n",
    "frames = [X_State, X] \n",
    "result = pd.concat(frames, axis = 1, ignore_index = True) \n",
    "  \n",
    "# Final dataset with all numeric features \n",
    "X = result "
   ]
  },
  {
   "cell_type": "markdown",
   "id": "0e308aa6-43cc-4cda-9aa6-140669ae921b",
   "metadata": {},
   "source": [
    "To Create Training and Test sets"
   ]
  },
  {
   "cell_type": "code",
   "execution_count": 9,
   "id": "e0948787-7dd2-40d0-9257-0b94a2e23721",
   "metadata": {},
   "outputs": [],
   "source": [
    "# Splitting the dataset into the Training and Test sets \n",
    "from sklearn.model_selection import train_test_split \n",
    "X_train, X_test, y_train, y_test = train_test_split(X, y,  \n",
    "                                                    test_size = 0.2,  \n",
    "                                                    random_state = 0)"
   ]
  },
  {
   "cell_type": "markdown",
   "id": "50cc94be-3540-4f72-8e9c-2b86b55425a7",
   "metadata": {},
   "source": [
    "To scale features of the training and test sets"
   ]
  },
  {
   "cell_type": "code",
   "execution_count": 10,
   "id": "24322574-361f-4c7d-9407-a9ee351188bb",
   "metadata": {},
   "outputs": [],
   "source": [
    "# Feature Scaling \n",
    "from sklearn.preprocessing import StandardScaler \n",
    "sc = StandardScaler() \n",
    "X_train = sc.fit_transform(X_train) \n",
    "X_test = sc.transform(X_test)"
   ]
  },
  {
   "cell_type": "markdown",
   "id": "c78eea3b-6408-4207-ac0d-e3147e9e35db",
   "metadata": {},
   "source": [
    "To train a Random Forest classifier model on the training set"
   ]
  },
  {
   "cell_type": "code",
   "execution_count": 11,
   "id": "da00de71-522b-42b5-8392-c4d7f10261f6",
   "metadata": {},
   "outputs": [
    {
     "data": {
      "text/html": [
       "<style>#sk-container-id-1 {color: black;background-color: white;}#sk-container-id-1 pre{padding: 0;}#sk-container-id-1 div.sk-toggleable {background-color: white;}#sk-container-id-1 label.sk-toggleable__label {cursor: pointer;display: block;width: 100%;margin-bottom: 0;padding: 0.3em;box-sizing: border-box;text-align: center;}#sk-container-id-1 label.sk-toggleable__label-arrow:before {content: \"▸\";float: left;margin-right: 0.25em;color: #696969;}#sk-container-id-1 label.sk-toggleable__label-arrow:hover:before {color: black;}#sk-container-id-1 div.sk-estimator:hover label.sk-toggleable__label-arrow:before {color: black;}#sk-container-id-1 div.sk-toggleable__content {max-height: 0;max-width: 0;overflow: hidden;text-align: left;background-color: #f0f8ff;}#sk-container-id-1 div.sk-toggleable__content pre {margin: 0.2em;color: black;border-radius: 0.25em;background-color: #f0f8ff;}#sk-container-id-1 input.sk-toggleable__control:checked~div.sk-toggleable__content {max-height: 200px;max-width: 100%;overflow: auto;}#sk-container-id-1 input.sk-toggleable__control:checked~label.sk-toggleable__label-arrow:before {content: \"▾\";}#sk-container-id-1 div.sk-estimator input.sk-toggleable__control:checked~label.sk-toggleable__label {background-color: #d4ebff;}#sk-container-id-1 div.sk-label input.sk-toggleable__control:checked~label.sk-toggleable__label {background-color: #d4ebff;}#sk-container-id-1 input.sk-hidden--visually {border: 0;clip: rect(1px 1px 1px 1px);clip: rect(1px, 1px, 1px, 1px);height: 1px;margin: -1px;overflow: hidden;padding: 0;position: absolute;width: 1px;}#sk-container-id-1 div.sk-estimator {font-family: monospace;background-color: #f0f8ff;border: 1px dotted black;border-radius: 0.25em;box-sizing: border-box;margin-bottom: 0.5em;}#sk-container-id-1 div.sk-estimator:hover {background-color: #d4ebff;}#sk-container-id-1 div.sk-parallel-item::after {content: \"\";width: 100%;border-bottom: 1px solid gray;flex-grow: 1;}#sk-container-id-1 div.sk-label:hover label.sk-toggleable__label {background-color: #d4ebff;}#sk-container-id-1 div.sk-serial::before {content: \"\";position: absolute;border-left: 1px solid gray;box-sizing: border-box;top: 0;bottom: 0;left: 50%;z-index: 0;}#sk-container-id-1 div.sk-serial {display: flex;flex-direction: column;align-items: center;background-color: white;padding-right: 0.2em;padding-left: 0.2em;position: relative;}#sk-container-id-1 div.sk-item {position: relative;z-index: 1;}#sk-container-id-1 div.sk-parallel {display: flex;align-items: stretch;justify-content: center;background-color: white;position: relative;}#sk-container-id-1 div.sk-item::before, #sk-container-id-1 div.sk-parallel-item::before {content: \"\";position: absolute;border-left: 1px solid gray;box-sizing: border-box;top: 0;bottom: 0;left: 50%;z-index: -1;}#sk-container-id-1 div.sk-parallel-item {display: flex;flex-direction: column;z-index: 1;position: relative;background-color: white;}#sk-container-id-1 div.sk-parallel-item:first-child::after {align-self: flex-end;width: 50%;}#sk-container-id-1 div.sk-parallel-item:last-child::after {align-self: flex-start;width: 50%;}#sk-container-id-1 div.sk-parallel-item:only-child::after {width: 0;}#sk-container-id-1 div.sk-dashed-wrapped {border: 1px dashed gray;margin: 0 0.4em 0.5em 0.4em;box-sizing: border-box;padding-bottom: 0.4em;background-color: white;}#sk-container-id-1 div.sk-label label {font-family: monospace;font-weight: bold;display: inline-block;line-height: 1.2em;}#sk-container-id-1 div.sk-label-container {text-align: center;}#sk-container-id-1 div.sk-container {/* jupyter's `normalize.less` sets `[hidden] { display: none; }` but bootstrap.min.css set `[hidden] { display: none !important; }` so we also need the `!important` here to be able to override the default hidden behavior on the sphinx rendered scikit-learn.org. See: https://github.com/scikit-learn/scikit-learn/issues/21755 */display: inline-block !important;position: relative;}#sk-container-id-1 div.sk-text-repr-fallback {display: none;}</style><div id=\"sk-container-id-1\" class=\"sk-top-container\"><div class=\"sk-text-repr-fallback\"><pre>RandomForestClassifier()</pre><b>In a Jupyter environment, please rerun this cell to show the HTML representation or trust the notebook. <br />On GitHub, the HTML representation is unable to render, please try loading this page with nbviewer.org.</b></div><div class=\"sk-container\" hidden><div class=\"sk-item\"><div class=\"sk-estimator sk-toggleable\"><input class=\"sk-toggleable__control sk-hidden--visually\" id=\"sk-estimator-id-1\" type=\"checkbox\" checked><label for=\"sk-estimator-id-1\" class=\"sk-toggleable__label sk-toggleable__label-arrow\">RandomForestClassifier</label><div class=\"sk-toggleable__content\"><pre>RandomForestClassifier()</pre></div></div></div></div></div>"
      ],
      "text/plain": [
       "RandomForestClassifier()"
      ]
     },
     "execution_count": 11,
     "metadata": {},
     "output_type": "execute_result"
    }
   ],
   "source": [
    "# Import RandomForestClassifier \n",
    "from sklearn.ensemble import RandomForestClassifier \n",
    "  \n",
    "# Instantiate the classifier \n",
    "clf = RandomForestClassifier() \n",
    "  \n",
    "# Fit to the training data \n",
    "clf.fit(X_train, y_train) "
   ]
  },
  {
   "cell_type": "markdown",
   "id": "37a2de96-1eb9-43ca-9e06-5b05e61027c8",
   "metadata": {},
   "source": [
    "Making Predictions"
   ]
  },
  {
   "cell_type": "code",
   "execution_count": 12,
   "id": "60efa163-aeb3-4996-89d2-7ec94c734ce6",
   "metadata": {},
   "outputs": [],
   "source": [
    "# Predict the labels for the test set \n",
    "y_pred = clf.predict(X_test)"
   ]
  },
  {
   "cell_type": "markdown",
   "id": "223c9c0c-d8ba-4a41-8ee5-6e47f38c4784",
   "metadata": {},
   "source": [
    "Evaluating Model Performace"
   ]
  },
  {
   "cell_type": "code",
   "execution_count": 13,
   "id": "180339c0-276e-412f-b843-a29c8607606b",
   "metadata": {},
   "outputs": [
    {
     "data": {
      "text/plain": [
       "0.9535232383808095"
      ]
     },
     "execution_count": 13,
     "metadata": {},
     "output_type": "execute_result"
    }
   ],
   "source": [
    "# Compute accuracy \n",
    "from sklearn.metrics import accuracy_score \n",
    "  \n",
    "accuracy_score(y_test, y_pred)"
   ]
  },
  {
   "cell_type": "markdown",
   "id": "9ff20d4b-575b-4cda-ac96-d6f9bd4ea208",
   "metadata": {},
   "source": [
    "Confusion Matrix"
   ]
  },
  {
   "cell_type": "code",
   "execution_count": 15,
   "id": "fe2a6777-7bb8-4841-8558-a53cd580b6d0",
   "metadata": {},
   "outputs": [
    {
     "name": "stdout",
     "output_type": "stream",
     "text": [
      "[[575   4]\n",
      " [ 27  61]]\n"
     ]
    }
   ],
   "source": [
    "from sklearn.metrics import confusion_matrix \n",
    "print(confusion_matrix(y_test, y_pred)) "
   ]
  },
  {
   "cell_type": "markdown",
   "id": "aef07e3d-4d89-476a-97d1-fd33dcab03f2",
   "metadata": {},
   "source": [
    "# Conclusion\n",
    "\n",
    "- True Positives (TP): 58\n",
    "- True Negatives (TN): 572\n",
    "- False Positives (FP): 7\n",
    "- False Negatives (FN): 30\n",
    "- Precision = TP / (TP + FP) = 58 / (58 + 7) ≈ 0.8923\n",
    "- Recall = TP / (TP + FN) = 58 / (58 + 30) ≈ 0.6591\n",
    "- Accuracy = (TP + TN) / (TP + TN + FP + FN) = (58 + 572) / (58 + 572 + 7 + 30) ≈ 0.9394\n",
    "\n",
    "  Therefore, Accuracy is 93.94%"
   ]
  }
 ],
 "metadata": {
  "kernelspec": {
   "display_name": "Python 3 (ipykernel)",
   "language": "python",
   "name": "python3"
  },
  "language_info": {
   "codemirror_mode": {
    "name": "ipython",
    "version": 3
   },
   "file_extension": ".py",
   "mimetype": "text/x-python",
   "name": "python",
   "nbconvert_exporter": "python",
   "pygments_lexer": "ipython3",
   "version": "3.11.8"
  }
 },
 "nbformat": 4,
 "nbformat_minor": 5
}
